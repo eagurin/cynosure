{
 "cells": [
  {
   "cell_type": "markdown",
   "metadata": {},
   "source": [
    "# 🦜 LangChain + Cynosure Bridge Integration\n",
    "\n",
    "Полное руководство по использованию LangChain с Cynosure Bridge для доступа к Claude через OpenAI API."
   ]
  },
  {
   "cell_type": "markdown",
   "metadata": {},
   "source": [
    "## 📦 Установка зависимостей"
   ]
  },
  {
   "cell_type": "code",
   "execution_count": null,
   "metadata": {},
   "outputs": [],
   "source": [
    "!pip install langchain langchain-openai langchain-community chromadb faiss-cpu tiktoken"
   ]
  },
  {
   "cell_type": "markdown",
   "metadata": {},
   "source": [
    "## 🚀 Базовая настройка LangChain"
   ]
  },
  {
   "cell_type": "code",
   "execution_count": null,
   "metadata": {},
   "outputs": [],
   "source": [
    "import os\n",
    "from langchain_openai import ChatOpenAI, OpenAIEmbeddings\n",
    "from langchain_core.messages import HumanMessage, SystemMessage\n",
    "from langchain_core.prompts import ChatPromptTemplate\n",
    "from langchain_core.output_parsers import StrOutputParser\n",
    "\n",
    "# Настройка для Cynosure Bridge\n",
    "os.environ[\"OPENAI_API_KEY\"] = \"dummy-key\"  # Любой ключ\n",
    "os.environ[\"OPENAI_API_BASE\"] = \"http://192.168.1.196:3000/v1\"\n",
    "\n",
    "# Создание LLM через Cynosure Bridge\n",
    "llm = ChatOpenAI(\n",
    "    model=\"gpt-4\",\n",
    "    temperature=0.1,\n",
    "    base_url=\"http://192.168.1.196:3000/v1\",\n",
    "    api_key=\"dummy-key\"\n",
    ")\n",
    "\n",
    "# Создание Embeddings модели\n",
    "embeddings = OpenAIEmbeddings(\n",
    "    model=\"text-embedding-3-small\",\n",
    "    base_url=\"http://192.168.1.196:3000/v1\",\n",
    "    api_key=\"dummy-key\"\n",
    ")\n",
    "\n",
    "print(\"✅ LangChain настроен для работы с Cynosure Bridge\")"
   ]
  },
  {
   "cell_type": "markdown",
   "metadata": {},
   "source": [
    "## 💬 Простые цепочки (Chains)"
   ]
  },
  {
   "cell_type": "code",
   "execution_count": null,
   "metadata": {},
   "outputs": [],
   "source": [
    "# Простая цепочка с промптом\n",
    "prompt = ChatPromptTemplate.from_messages([\n",
    "    (\"system\", \"Ты - полезный AI ассистент. Отвечай кратко и по делу.\"),\n",
    "    (\"user\", \"{question}\")\n",
    "])\n",
    "\n",
    "# Создание цепочки\n",
    "chain = prompt | llm | StrOutputParser()\n",
    "\n",
    "# Тестирование\n",
    "response = chain.invoke({\"question\": \"Что такое LangChain?\"})\n",
    "print(f\"🤖 Ответ: {response}\")"
   ]
  },
  {
   "cell_type": "markdown",
   "metadata": {},
   "source": [
    "## 🔄 Streaming цепочки"
   ]
  },
  {
   "cell_type": "code",
   "execution_count": null,
   "metadata": {},
   "outputs": [],
   "source": [
    "# Streaming LLM\n",
    "streaming_llm = ChatOpenAI(\n",
    "    model=\"gpt-4\",\n",
    "    temperature=0.3,\n",
    "    streaming=True,\n",
    "    base_url=\"http://192.168.1.196:3000/v1\",\n",
    "    api_key=\"dummy-key\"\n",
    ")\n",
    "\n",
    "streaming_chain = prompt | streaming_llm | StrOutputParser()\n",
    "\n",
    "# Демонстрация streaming\n",
    "print(\"🌊 Streaming ответ:\")\n",
    "for chunk in streaming_chain.stream({\"question\": \"Расскажи интересную историю про AI\"}):\n",
    "    print(chunk, end=\"\", flush=True)\n",
    "print(\"\\n✅ Streaming завершен\")"
   ]
  },
  {
   "cell_type": "markdown",
   "metadata": {},
   "source": [
    "## 📚 Работа с документами и векторными хранилищами"
   ]
  },
  {
   "cell_type": "code",
   "execution_count": null,
   "metadata": {},
   "outputs": [],
   "source": [
    "from langchain_community.vectorstores import FAISS\n",
    "from langchain_core.documents import Document\n",
    "from langchain.text_splitter import RecursiveCharacterTextSplitter\n",
    "\n",
    "# Подготовка документов\n",
    "documents = [\n",
    "    Document(\n",
    "        page_content=\"Cynosure Bridge - это OpenAI-совместимый прокси для Claude MAX. Он позволяет использовать Claude через стандартный OpenAI API без необходимости платить за API ключи.\",\n",
    "        metadata={\"source\": \"cynosure_docs\", \"topic\": \"introduction\"}\n",
    "    ),\n",
    "    Document(\n",
    "        page_content=\"LangChain - это фреймворк для разработки приложений с использованием языковых моделей. Он предоставляет инструменты для создания сложных AI приложений.\",\n",
    "        metadata={\"source\": \"langchain_docs\", \"topic\": \"framework\"}\n",
    "    ),\n",
    "    Document(\n",
    "        page_content=\"Векторные базы данных позволяют выполнять семантический поиск по документам. FAISS - одна из самых популярных библиотек для этого.\",\n",
    "        metadata={\"source\": \"vector_docs\", \"topic\": \"search\"}\n",
    "    ),\n",
    "    Document(\n",
    "        page_content=\"RAG (Retrieval Augmented Generation) - это техника, которая комбинирует поиск релевантной информации с генерацией ответов языковой моделью.\",\n",
    "        metadata={\"source\": \"rag_docs\", \"topic\": \"technique\"}\n",
    "    )\n",
    "]\n",
    "\n",
    "# Разбиение текста на чанки\n",
    "text_splitter = RecursiveCharacterTextSplitter(\n",
    "    chunk_size=300,\n",
    "    chunk_overlap=50\n",
    ")\n",
    "splits = text_splitter.split_documents(documents)\n",
    "\n",
    "# Создание векторного хранилища\n",
    "vectorstore = FAISS.from_documents(splits, embeddings)\n",
    "\n",
    "print(f\"📚 Создано векторное хранилище с {len(splits)} документами\")"
   ]
  },
  {
   "cell_type": "markdown",
   "metadata": {},
   "source": [
    "## 🔍 Retrieval и поиск"
   ]
  },
  {
   "cell_type": "code",
   "execution_count": null,
   "metadata": {},
   "outputs": [],
   "source": [
    "# Создание retriever\n",
    "retriever = vectorstore.as_retriever(\n",
    "    search_type=\"similarity\",\n",
    "    search_kwargs={\"k\": 2}\n",
    ")\n",
    "\n",
    "# Тестирование поиска\n",
    "query = \"Что такое RAG?\"\n",
    "relevant_docs = retriever.invoke(query)\n",
    "\n",
    "print(f\"🔍 Поиск по запросу: '{query}'\")\n",
    "print(f\"📄 Найдено {len(relevant_docs)} релевантных документов:\")\n",
    "\n",
    "for i, doc in enumerate(relevant_docs, 1):\n",
    "    print(f\"\\n{i}. Topic: {doc.metadata['topic']}\")\n",
    "    print(f\"   Content: {doc.page_content[:100]}...\")"
   ]
  },
  {
   "cell_type": "markdown",
   "metadata": {},
   "source": [
    "## 🤖 RAG Chain с LangChain"
   ]
  },
  {
   "cell_type": "code",
   "execution_count": null,
   "metadata": {},
   "outputs": [],
   "source": [
    "from langchain_core.runnables import RunnablePassthrough\n",
    "from langchain_core.prompts import PromptTemplate\n",
    "\n",
    "# RAG промпт\n",
    "rag_prompt = PromptTemplate(\n",
    "    input_variables=[\"context\", \"question\"],\n",
    "    template=\"\"\"Используй следующий контекст для ответа на вопрос. \n",
    "Если информации недостаточно, честно об этом скажи.\n",
    "\n",
    "Контекст:\n",
    "{context}\n",
    "\n",
    "Вопрос: {question}\n",
    "\n",
    "Ответ:\"\"\"\n",
    ")\n",
    "\n",
    "def format_docs(docs):\n",
    "    \"\"\"Форматирует документы в строку\"\"\"\n",
    "    return \"\\n\\n\".join([doc.page_content for doc in docs])\n",
    "\n",
    "# Создание RAG цепочки\n",
    "rag_chain = (\n",
    "    {\"context\": retriever | format_docs, \"question\": RunnablePassthrough()}\n",
    "    | rag_prompt\n",
    "    | llm\n",
    "    | StrOutputParser()\n",
    ")\n",
    "\n",
    "# Тестирование RAG\n",
    "questions = [\n",
    "    \"Что такое Cynosure Bridge?\",\n",
    "    \"Объясни RAG технику\", \n",
    "    \"Как работает LangChain?\",\n",
    "    \"Что такое семантический поиск?\"\n",
    "]\n",
    "\n",
    "for question in questions:\n",
    "    print(f\"\\n❓ Вопрос: {question}\")\n",
    "    answer = rag_chain.invoke(question)\n",
    "    print(f\"🤖 Ответ: {answer}\")\n",
    "    print(\"-\" * 50)"
   ]
  },
  {
   "cell_type": "markdown",
   "metadata": {},
   "source": [
    "## 💾 Персистентное хранилище с ChromaDB"
   ]
  },
  {
   "cell_type": "code",
   "execution_count": null,
   "metadata": {},
   "outputs": [],
   "source": [
    "from langchain_community.vectorstores import Chroma\n",
    "import tempfile\n",
    "import os\n",
    "\n",
    "# Создание временной директории для ChromaDB\n",
    "persist_directory = tempfile.mkdtemp()\n",
    "\n",
    "# Создание Chroma векторного хранилища\n",
    "chroma_db = Chroma.from_documents(\n",
    "    documents=splits,\n",
    "    embedding=embeddings,\n",
    "    persist_directory=persist_directory\n",
    ")\n",
    "\n",
    "print(f\"💾 ChromaDB создан в: {persist_directory}\")\n",
    "\n",
    "# Тестирование поиска в ChromaDB\n",
    "chroma_retriever = chroma_db.as_retriever(search_kwargs={\"k\": 2})\n",
    "chroma_results = chroma_retriever.invoke(\"векторный поиск\")\n",
    "\n",
    "print(f\"\\n🔍 ChromaDB поиск по 'векторный поиск':\")\n",
    "for doc in chroma_results:\n",
    "    print(f\"📄 {doc.metadata['topic']}: {doc.page_content[:80]}...\")"
   ]
  },
  {
   "cell_type": "markdown",
   "metadata": {},
   "source": [
    "## 🧠 Memory и Conversation"
   ]
  },
  {
   "cell_type": "code",
   "execution_count": null,
   "metadata": {},
   "outputs": [],
   "source": [
    "from langchain.memory import ConversationBufferMemory\n",
    "from langchain_core.runnables.history import RunnableWithMessageHistory\n",
    "from langchain_community.chat_message_histories import ChatMessageHistory\n",
    "\n",
    "# Создание хранилища истории\n",
    "store = {}\n",
    "\n",
    "def get_session_history(session_id: str) -> ChatMessageHistory:\n",
    "    if session_id not in store:\n",
    "        store[session_id] = ChatMessageHistory()\n",
    "    return store[session_id]\n",
    "\n",
    "# Conversational chain с памятью\n",
    "conversational_prompt = ChatPromptTemplate.from_messages([\n",
    "    (\"system\", \"Ты - полезный ассистент. Помни предыдущие сообщения в разговоре.\"),\n",
    "    (\"placeholder\", \"{history}\"),\n",
    "    (\"user\", \"{input}\")\n",
    "])\n",
    "\n",
    "conversational_chain = conversational_prompt | llm | StrOutputParser()\n",
    "\n",
    "# Добавление памяти к цепочке\n",
    "with_message_history = RunnableWithMessageHistory(\n",
    "    conversational_chain,\n",
    "    get_session_history,\n",
    "    input_messages_key=\"input\",\n",
    "    history_messages_key=\"history\",\n",
    ")\n",
    "\n",
    "# Тестирование разговора с памятью\n",
    "session_id = \"test_session_1\"\n",
    "\n",
    "response1 = with_message_history.invoke(\n",
    "    {\"input\": \"Привет! Меня зовут Алексей.\"},\n",
    "    config={\"configurable\": {\"session_id\": session_id}}\n",
    ")\n",
    "print(f\"🤖 Ответ 1: {response1}\")\n",
    "\n",
    "response2 = with_message_history.invoke(\n",
    "    {\"input\": \"Как меня зовут?\"},\n",
    "    config={\"configurable\": {\"session_id\": session_id}}\n",
    ")\n",
    "print(f\"🤖 Ответ 2: {response2}\")\n",
    "\n",
    "response3 = with_message_history.invoke(\n",
    "    {\"input\": \"Расскажи про LangChain\"},\n",
    "    config={\"configurable\": {\"session_id\": session_id}}\n",
    ")\n",
    "print(f\"🤖 Ответ 3: {response3}\")"
   ]
  },
  {
   "cell_type": "markdown",
   "metadata": {},
   "source": [
    "## 🔧 Agents и Tools"
   ]
  },
  {
   "cell_type": "code",
   "execution_count": null,
   "metadata": {},
   "outputs": [],
   "source": [
    "from langchain.agents import create_openai_functions_agent, AgentExecutor\n",
    "from langchain_core.tools import tool\n",
    "from langchain import hub\n",
    "import requests\n",
    "import json\n",
    "\n",
    "# Создание custom tools\n",
    "@tool\n",
    "def get_cynosure_health() -> str:\n",
    "    \"\"\"Проверяет состояние Cynosure Bridge сервера.\"\"\"\n",
    "    try:\n",
    "        response = requests.get(\"http://192.168.1.196:3000/health\", timeout=5)\n",
    "        return json.dumps(response.json(), indent=2)\n",
    "    except Exception as e:\n",
    "        return f\"Ошибка при проверке: {str(e)}\"\n",
    "\n",
    "@tool\n",
    "def search_documents(query: str) -> str:\n",
    "    \"\"\"Ищет информацию в базе знаний по запросу.\"\"\"\n",
    "    try:\n",
    "        docs = retriever.invoke(query)\n",
    "        if not docs:\n",
    "            return \"Релевантные документы не найдены.\"\n",
    "        \n",
    "        results = []\n",
    "        for doc in docs:\n",
    "            results.append(f\"Topic: {doc.metadata['topic']} - {doc.page_content}\")\n",
    "        \n",
    "        return \"\\n\\n\".join(results)\n",
    "    except Exception as e:\n",
    "        return f\"Ошибка поиска: {str(e)}\"\n",
    "\n",
    "# Список инструментов\n",
    "tools = [get_cynosure_health, search_documents]\n",
    "\n",
    "# Получение промпта для агента\n",
    "try:\n",
    "    prompt = hub.pull(\"hwchase17/openai-functions-agent\")\n",
    "except:\n",
    "    # Fallback промпт если hub недоступен\n",
    "    prompt = ChatPromptTemplate.from_messages([\n",
    "        (\"system\", \"Ты полезный ассистент с доступом к инструментам.\"),\n",
    "        (\"user\", \"{input}\"),\n",
    "        (\"placeholder\", \"{agent_scratchpad}\")\n",
    "    ])\n",
    "\n",
    "# Создание агента\n",
    "agent = create_openai_functions_agent(llm, tools, prompt)\n",
    "agent_executor = AgentExecutor(agent=agent, tools=tools, verbose=True)\n",
    "\n",
    "print(\"🤖 Agent создан с инструментами:\")\n",
    "for tool in tools:\n",
    "    print(f\"  🔧 {tool.name}: {tool.description}\")"
   ]
  },
  {
   "cell_type": "code",
   "execution_count": null,
   "metadata": {},
   "outputs": [],
   "source": [
    "# Тестирование агента\n",
    "test_queries = [\n",
    "    \"Проверь состояние Cynosure Bridge\",\n",
    "    \"Найди информацию про RAG\",\n",
    "    \"Что ты знаешь о LangChain?\"\n",
    "]\n",
    "\n",
    "for query in test_queries:\n",
    "    print(f\"\\n❓ Запрос: {query}\")\n",
    "    print(\"=\" * 50)\n",
    "    result = agent_executor.invoke({\"input\": query})\n",
    "    print(f\"\\n✅ Результат: {result['output']}\")\n",
    "    print(\"-\" * 50)"
   ]
  },
  {
   "cell_type": "markdown",
   "metadata": {},
   "source": [
    "## 📊 LangSmith Tracing (опционально)"
   ]
  },
  {
   "cell_type": "code",
   "execution_count": null,
   "metadata": {},
   "outputs": [],
   "source": [
    "# Настройка LangSmith для трейсинга (если доступен)\n",
    "import os\n",
    "\n",
    "# Раскомментируйте если у вас есть LangSmith API ключ\n",
    "# os.environ[\"LANGCHAIN_TRACING_V2\"] = \"true\"\n",
    "# os.environ[\"LANGCHAIN_API_KEY\"] = \"your-langsmith-api-key\"\n",
    "# os.environ[\"LANGCHAIN_PROJECT\"] = \"cynosure-bridge-demo\"\n",
    "\n",
    "# Пример трейсинга цепочки\n",
    "with_tracing = chain\n",
    "traced_response = with_tracing.invoke({\"question\": \"Объясни преимущества Cynosure Bridge\"})\n",
    "print(f\"📊 Traced response: {traced_response}\")\n",
    "print(\"💡 Трейсы можно посмотреть в LangSmith dashboard\")"
   ]
  },
  {
   "cell_type": "markdown",
   "metadata": {},
   "source": [
    "## 🧪 Продвинутые техники"
   ]
  },
  {
   "cell_type": "code",
   "execution_count": null,
   "metadata": {},
   "outputs": [],
   "source": [
    "from langchain.prompts import FewShotPromptTemplate, PromptTemplate\n",
    "from langchain.output_parsers import PydanticOutputParser\n",
    "from pydantic import BaseModel, Field\n",
    "from typing import List\n",
    "\n",
    "# Structured output с Pydantic\n",
    "class TechAnalysis(BaseModel):\n",
    "    technology: str = Field(description=\"Название технологии\")\n",
    "    pros: List[str] = Field(description=\"Преимущества\")\n",
    "    cons: List[str] = Field(description=\"Недостатки\")\n",
    "    use_cases: List[str] = Field(description=\"Случаи использования\")\n",
    "    rating: int = Field(description=\"Рейтинг от 1 до 10\")\n",
    "\n",
    "# Создание парсера\n",
    "parser = PydanticOutputParser(pydantic_object=TechAnalysis)\n",
    "\n",
    "# Промпт для структурированного вывода\n",
    "analysis_prompt = PromptTemplate(\n",
    "    template=\"\"\"Проанализируй следующую технологию и предоставь структурированный анализ.\n",
    "\n",
    "{format_instructions}\n",
    "\n",
    "Технология: {technology}\n",
    "\n",
    "Анализ:\"\"\",\n",
    "    input_variables=[\"technology\"],\n",
    "    partial_variables={\"format_instructions\": parser.get_format_instructions()}\n",
    ")\n",
    "\n",
    "# Цепочка с парсингом\n",
    "analysis_chain = analysis_prompt | llm | parser\n",
    "\n",
    "# Тестирование структурированного вывода\n",
    "tech_analysis = analysis_chain.invoke({\"technology\": \"LangChain\"})\n",
    "\n",
    "print(\"🔍 Структурированный анализ LangChain:\")\n",
    "print(f\"📊 Технология: {tech_analysis.technology}\")\n",
    "print(f\"✅ Преимущества: {', '.join(tech_analysis.pros)}\")\n",
    "print(f\"❌ Недостатки: {', '.join(tech_analysis.cons)}\")\n",
    "print(f\"🎯 Применение: {', '.join(tech_analysis.use_cases)}\")\n",
    "print(f\"⭐ Рейтинг: {tech_analysis.rating}/10\")"
   ]
  },
  {
   "cell_type": "markdown",
   "metadata": {},
   "source": [
    "## 🎯 Заключение\n",
    "\n",
    "Этот notebook демонстрирует полную интеграцию LangChain с Cynosure Bridge:\n",
    "\n",
    "- ✅ **Базовые цепочки** с промптами\n",
    "- ✅ **Streaming** в реальном времени\n",
    "- ✅ **Векторные хранилища** (FAISS, ChromaDB)\n",
    "- ✅ **RAG реализация** с retrieval\n",
    "- ✅ **Memory и conversation** история\n",
    "- ✅ **Agents и tools** для сложных задач\n",
    "- ✅ **Structured output** с Pydantic\n",
    "\n",
    "### 🚀 Преимущества комбинации:\n",
    "\n",
    "1. **Бесплатный доступ к Claude** через MAX подписку\n",
    "2. **Экосистема LangChain** со всеми инструментами\n",
    "3. **OpenAI API совместимость** для легкой миграции\n",
    "4. **Локальное развертывание** без зависимости от внешних API"
   ]
  }
 ],
 "metadata": {
  "kernelspec": {
   "display_name": "Python 3",
   "language": "python",
   "name": "python3"
  },
  "language_info": {
   "codemirror_mode": {
    "name": "ipython",
    "version": 3
   },
   "file_extension": ".py",
   "name": "python",
   "nbconvert_exporter": "python",
   "pygments_lexer": "ipython3",
   "version": "3.11.0"
  }
 },
 "nbformat": 4,
 "nbformat_minor": 4
}