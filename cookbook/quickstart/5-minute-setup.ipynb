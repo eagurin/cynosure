{
 "cells": [
  {
   "cell_type": "markdown",
   "metadata": {},
   "source": [
    "# ⚡ 5-минутная настройка Cynosure Bridge\n",
    "\n",
    "Самый быстрый способ начать использовать Claude через OpenAI API."
   ]
  },
  {
   "cell_type": "markdown",
   "metadata": {},
   "source": [
    "## ✅ Ваш Bridge уже готов!\n",
    "\n",
    "Если вы читаете это в проекте Cynosure, то сервер **уже запущен** и готов к использованию:\n",
    "\n",
    "- **Локальный URL**: `http://localhost:3000/v1`\n",
    "- **Сетевой URL**: `http://192.168.1.196:3000/v1`"
   ]
  },
  {
   "cell_type": "markdown",
   "metadata": {},
   "source": [
    "## 🧪 Быстрый тест\n",
    "\n",
    "### 1. Проверка доступности"
   ]
  },
  {
   "cell_type": "code",
   "execution_count": null,
   "metadata": {},
   "outputs": [],
   "source": [
    "import requests\n",
    "import json\n",
    "\n",
    "# Проверяем health endpoint\n",
    "response = requests.get('http://192.168.1.196:3000/health')\n",
    "print(json.dumps(response.json(), indent=2))"
   ]
  },
  {
   "cell_type": "markdown",
   "metadata": {},
   "source": [
    "### 2. Первый чат-запрос"
   ]
  },
  {
   "cell_type": "code",
   "execution_count": null,
   "metadata": {},
   "outputs": [],
   "source": [
    "import openai\n",
    "\n",
    "# Настройка клиента\n",
    "client = openai.OpenAI(\n",
    "    base_url=\"http://192.168.1.196:3000/v1\",\n",
    "    api_key=\"any-key-works\"\n",
    ")\n",
    "\n",
    "# Первый запрос\n",
    "response = client.chat.completions.create(\n",
    "    model=\"gpt-4\",\n",
    "    messages=[{\"role\": \"user\", \"content\": \"Привет! Ты работаешь?\"}],\n",
    "    max_tokens=50\n",
    ")\n",
    "\n",
    "print(response.choices[0].message.content)"
   ]
  },
  {
   "cell_type": "markdown",
   "metadata": {},
   "source": [
    "### 3. Тест embeddings"
   ]
  },
  {
   "cell_type": "code",
   "execution_count": null,
   "metadata": {},
   "outputs": [],
   "source": [
    "# Тест векторизации\n",
    "response = client.embeddings.create(\n",
    "    model=\"text-embedding-3-small\",\n",
    "    input=\"Это тест векторизации\"\n",
    ")\n",
    "\n",
    "embedding = response.data[0].embedding\n",
    "print(f\"Размерность вектора: {len(embedding)}\")\n",
    "print(f\"Первые 5 значений: {embedding[:5]}\")\n",
    "print(f\"Использовано токенов: {response.usage.total_tokens}\")"
   ]
  },
  {
   "cell_type": "markdown",
   "metadata": {},
   "source": [
    "## 🎯 Что дальше?\n",
    "\n",
    "- **[Embeddings с Python](../integrations/python/embeddings.ipynb)** - работа с векторизацией\n",
    "- **[JavaScript интеграция](../integrations/javascript/openai-sdk.ipynb)** - полное руководство для JS\n",
    "- **[RAG Implementation](../examples/rag-basic.ipynb)** - построение RAG системы\n",
    "\n",
    "**🎉 Готово! Теперь у вас есть локальный OpenAI-совместимый API, работающий через Claude MAX!**"
   ]
  }
 ],
 "metadata": {
  "kernelspec": {
   "display_name": "Python 3",
   "language": "python",
   "name": "python3"
  },
  "language_info": {
   "codemirror_mode": {
    "name": "ipython",
    "version": 3
   },
   "file_extension": ".py",
   "name": "python",
   "nbconvert_exporter": "python",
   "pygments_lexer": "ipython3",
   "version": "3.11.0"
  }
 },
 "nbformat": 4,
 "nbformat_minor": 4
}